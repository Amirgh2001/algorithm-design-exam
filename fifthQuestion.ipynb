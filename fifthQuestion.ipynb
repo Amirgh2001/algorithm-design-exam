{
 "cells": [
  {
   "cell_type": "code",
   "execution_count": 31,
   "id": "11da96e3",
   "metadata": {},
   "outputs": [],
   "source": [
    "import pandas as pd"
   ]
  },
  {
   "cell_type": "code",
   "execution_count": 32,
   "id": "ef32d201",
   "metadata": {},
   "outputs": [
    {
     "name": "stdout",
     "output_type": "stream",
     "text": [
      "user_id         0\n",
      "song_id         0\n",
      "listen_count    0\n",
      "title           0\n",
      "artist          0\n",
      "song            0\n",
      "dtype: int64\n",
      "0\n"
     ]
    }
   ],
   "source": [
    "import pandas as pd\n",
    "\n",
    "df = pd.read_csv('song_data.csv')\n",
    "\n",
    "print(df.isnull().sum())\n",
    "\n",
    "print(df.duplicated().sum())"
   ]
  },
  {
   "cell_type": "code",
   "execution_count": 33,
   "id": "5d6e9d58",
   "metadata": {},
   "outputs": [
    {
     "data": {
      "text/html": [
       "<div>\n",
       "<style scoped>\n",
       "    .dataframe tbody tr th:only-of-type {\n",
       "        vertical-align: middle;\n",
       "    }\n",
       "\n",
       "    .dataframe tbody tr th {\n",
       "        vertical-align: top;\n",
       "    }\n",
       "\n",
       "    .dataframe thead th {\n",
       "        text-align: right;\n",
       "    }\n",
       "</style>\n",
       "<table border=\"1\" class=\"dataframe\">\n",
       "  <thead>\n",
       "    <tr style=\"text-align: right;\">\n",
       "      <th></th>\n",
       "      <th>user_id</th>\n",
       "      <th>song_id</th>\n",
       "      <th>listen_count</th>\n",
       "      <th>title</th>\n",
       "      <th>artist</th>\n",
       "      <th>song</th>\n",
       "    </tr>\n",
       "  </thead>\n",
       "  <tbody>\n",
       "    <tr>\n",
       "      <th>0</th>\n",
       "      <td>b80344d063b5ccb3212f76538f3d9e43d87dca9e</td>\n",
       "      <td>SOAKIMP12A8C130995</td>\n",
       "      <td>1</td>\n",
       "      <td>The Cove</td>\n",
       "      <td>Jack Johnson</td>\n",
       "      <td>The Cove - Jack Johnson</td>\n",
       "    </tr>\n",
       "    <tr>\n",
       "      <th>1</th>\n",
       "      <td>b80344d063b5ccb3212f76538f3d9e43d87dca9e</td>\n",
       "      <td>SOBBMDR12A8C13253B</td>\n",
       "      <td>2</td>\n",
       "      <td>Entre Dos Aguas</td>\n",
       "      <td>Paco De Lucia</td>\n",
       "      <td>Entre Dos Aguas - Paco De Lucia</td>\n",
       "    </tr>\n",
       "    <tr>\n",
       "      <th>2</th>\n",
       "      <td>b80344d063b5ccb3212f76538f3d9e43d87dca9e</td>\n",
       "      <td>SOBXHDL12A81C204C0</td>\n",
       "      <td>1</td>\n",
       "      <td>Stronger</td>\n",
       "      <td>Kanye West</td>\n",
       "      <td>Stronger - Kanye West</td>\n",
       "    </tr>\n",
       "    <tr>\n",
       "      <th>3</th>\n",
       "      <td>b80344d063b5ccb3212f76538f3d9e43d87dca9e</td>\n",
       "      <td>SOBYHAJ12A6701BF1D</td>\n",
       "      <td>1</td>\n",
       "      <td>Constellations</td>\n",
       "      <td>Jack Johnson</td>\n",
       "      <td>Constellations - Jack Johnson</td>\n",
       "    </tr>\n",
       "    <tr>\n",
       "      <th>4</th>\n",
       "      <td>b80344d063b5ccb3212f76538f3d9e43d87dca9e</td>\n",
       "      <td>SODACBL12A8C13C273</td>\n",
       "      <td>1</td>\n",
       "      <td>Learn To Fly</td>\n",
       "      <td>Foo Fighters</td>\n",
       "      <td>Learn To Fly - Foo Fighters</td>\n",
       "    </tr>\n",
       "    <tr>\n",
       "      <th>5</th>\n",
       "      <td>b80344d063b5ccb3212f76538f3d9e43d87dca9e</td>\n",
       "      <td>SODDNQT12A6D4F5F7E</td>\n",
       "      <td>5</td>\n",
       "      <td>Apuesta Por El Rock \\'N\\' Roll</td>\n",
       "      <td>Héroes del Silencio</td>\n",
       "      <td>Apuesta Por El Rock \\'N\\' Roll - Héroes del Si...</td>\n",
       "    </tr>\n",
       "    <tr>\n",
       "      <th>6</th>\n",
       "      <td>b80344d063b5ccb3212f76538f3d9e43d87dca9e</td>\n",
       "      <td>SODXRTY12AB0180F3B</td>\n",
       "      <td>1</td>\n",
       "      <td>Paper Gangsta</td>\n",
       "      <td>Lady GaGa</td>\n",
       "      <td>Paper Gangsta - Lady GaGa</td>\n",
       "    </tr>\n",
       "    <tr>\n",
       "      <th>7</th>\n",
       "      <td>b80344d063b5ccb3212f76538f3d9e43d87dca9e</td>\n",
       "      <td>SOFGUAY12AB017B0A8</td>\n",
       "      <td>1</td>\n",
       "      <td>Stacked Actors</td>\n",
       "      <td>Foo Fighters</td>\n",
       "      <td>Stacked Actors - Foo Fighters</td>\n",
       "    </tr>\n",
       "    <tr>\n",
       "      <th>8</th>\n",
       "      <td>b80344d063b5ccb3212f76538f3d9e43d87dca9e</td>\n",
       "      <td>SOFRQTD12A81C233C0</td>\n",
       "      <td>1</td>\n",
       "      <td>Sehr kosmisch</td>\n",
       "      <td>Harmonia</td>\n",
       "      <td>Sehr kosmisch - Harmonia</td>\n",
       "    </tr>\n",
       "    <tr>\n",
       "      <th>9</th>\n",
       "      <td>b80344d063b5ccb3212f76538f3d9e43d87dca9e</td>\n",
       "      <td>SOHQWYZ12A6D4FA701</td>\n",
       "      <td>1</td>\n",
       "      <td>Heaven\\'s gonna burn your eyes</td>\n",
       "      <td>Thievery Corporation feat. Emiliana Torrini</td>\n",
       "      <td>Heaven\\'s gonna burn your eyes - Thievery Corp...</td>\n",
       "    </tr>\n",
       "  </tbody>\n",
       "</table>\n",
       "</div>"
      ],
      "text/plain": [
       "                                    user_id             song_id  listen_count  \\\n",
       "0  b80344d063b5ccb3212f76538f3d9e43d87dca9e  SOAKIMP12A8C130995             1   \n",
       "1  b80344d063b5ccb3212f76538f3d9e43d87dca9e  SOBBMDR12A8C13253B             2   \n",
       "2  b80344d063b5ccb3212f76538f3d9e43d87dca9e  SOBXHDL12A81C204C0             1   \n",
       "3  b80344d063b5ccb3212f76538f3d9e43d87dca9e  SOBYHAJ12A6701BF1D             1   \n",
       "4  b80344d063b5ccb3212f76538f3d9e43d87dca9e  SODACBL12A8C13C273             1   \n",
       "5  b80344d063b5ccb3212f76538f3d9e43d87dca9e  SODDNQT12A6D4F5F7E             5   \n",
       "6  b80344d063b5ccb3212f76538f3d9e43d87dca9e  SODXRTY12AB0180F3B             1   \n",
       "7  b80344d063b5ccb3212f76538f3d9e43d87dca9e  SOFGUAY12AB017B0A8             1   \n",
       "8  b80344d063b5ccb3212f76538f3d9e43d87dca9e  SOFRQTD12A81C233C0             1   \n",
       "9  b80344d063b5ccb3212f76538f3d9e43d87dca9e  SOHQWYZ12A6D4FA701             1   \n",
       "\n",
       "                            title  \\\n",
       "0                        The Cove   \n",
       "1                 Entre Dos Aguas   \n",
       "2                        Stronger   \n",
       "3                  Constellations   \n",
       "4                    Learn To Fly   \n",
       "5  Apuesta Por El Rock \\'N\\' Roll   \n",
       "6                   Paper Gangsta   \n",
       "7                  Stacked Actors   \n",
       "8                   Sehr kosmisch   \n",
       "9  Heaven\\'s gonna burn your eyes   \n",
       "\n",
       "                                        artist  \\\n",
       "0                                 Jack Johnson   \n",
       "1                                Paco De Lucia   \n",
       "2                                   Kanye West   \n",
       "3                                 Jack Johnson   \n",
       "4                                 Foo Fighters   \n",
       "5                          Héroes del Silencio   \n",
       "6                                    Lady GaGa   \n",
       "7                                 Foo Fighters   \n",
       "8                                     Harmonia   \n",
       "9  Thievery Corporation feat. Emiliana Torrini   \n",
       "\n",
       "                                                song  \n",
       "0                            The Cove - Jack Johnson  \n",
       "1                    Entre Dos Aguas - Paco De Lucia  \n",
       "2                              Stronger - Kanye West  \n",
       "3                      Constellations - Jack Johnson  \n",
       "4                        Learn To Fly - Foo Fighters  \n",
       "5  Apuesta Por El Rock \\'N\\' Roll - Héroes del Si...  \n",
       "6                          Paper Gangsta - Lady GaGa  \n",
       "7                      Stacked Actors - Foo Fighters  \n",
       "8                           Sehr kosmisch - Harmonia  \n",
       "9  Heaven\\'s gonna burn your eyes - Thievery Corp...  "
      ]
     },
     "execution_count": 33,
     "metadata": {},
     "output_type": "execute_result"
    }
   ],
   "source": [
    "df.head(10)"
   ]
  },
  {
   "cell_type": "code",
   "execution_count": null,
   "id": "95e1e8fb",
   "metadata": {},
   "outputs": [],
   "source": []
  },
  {
   "cell_type": "code",
   "execution_count": 34,
   "id": "efaa01e3",
   "metadata": {},
   "outputs": [
    {
     "name": "stdout",
     "output_type": "stream",
     "text": [
      "                                                   song  listen_count\n",
      "9873                    You\\'re The One - Dwight Yoakam         40619\n",
      "9077                                       Undo - Björk         36059\n",
      "6769                            Revelry - Kings Of Leon         30391\n",
      "3608  Horn Concerto No. 4 in E flat K495: II. Romanc...         21953\n",
      "7122                           Sehr kosmisch - Harmonia         21646\n",
      "2062  Dog Days Are Over (Radio Edit) - Florence + Th...         15889\n",
      "7110                              Secrets - OneRepublic         14149\n",
      "243                       Ain\\'t Misbehavin - Sam Cooke         14029\n",
      "4217                                 Invalid - Tub Ring         13701\n",
      "1384  Catch You Baby (Steve Pitron & Max Sanna Radio...         12506\n"
     ]
    }
   ],
   "source": [
    "song_listen_counts = df.groupby('song')['listen_count'].sum().reset_index()\n",
    "sorted_songs = song_listen_counts.sort_values('listen_count', ascending=False)\n",
    "\n",
    "top_songs = sorted_songs.head(10)\n",
    "print(top_songs)"
   ]
  },
  {
   "cell_type": "code",
   "execution_count": 35,
   "id": "bf7fa4ac",
   "metadata": {},
   "outputs": [
    {
     "name": "stdout",
     "output_type": "stream",
     "text": [
      "unique users count: 66346\n"
     ]
    }
   ],
   "source": [
    "unique_users = len(df['user_id'].unique())\n",
    "print(\"unique users count:\", unique_users)"
   ]
  },
  {
   "cell_type": "code",
   "execution_count": 36,
   "id": "2dc32027",
   "metadata": {},
   "outputs": [
    {
     "data": {
      "text/html": [
       "<div>\n",
       "<style scoped>\n",
       "    .dataframe tbody tr th:only-of-type {\n",
       "        vertical-align: middle;\n",
       "    }\n",
       "\n",
       "    .dataframe tbody tr th {\n",
       "        vertical-align: top;\n",
       "    }\n",
       "\n",
       "    .dataframe thead th {\n",
       "        text-align: right;\n",
       "    }\n",
       "</style>\n",
       "<table border=\"1\" class=\"dataframe\">\n",
       "  <thead>\n",
       "    <tr style=\"text-align: right;\">\n",
       "      <th></th>\n",
       "      <th>song</th>\n",
       "      <th>listen_count</th>\n",
       "    </tr>\n",
       "  </thead>\n",
       "  <tbody>\n",
       "    <tr>\n",
       "      <th>9873</th>\n",
       "      <td>You\\'re The One - Dwight Yoakam</td>\n",
       "      <td>40619</td>\n",
       "    </tr>\n",
       "    <tr>\n",
       "      <th>9077</th>\n",
       "      <td>Undo - Björk</td>\n",
       "      <td>36059</td>\n",
       "    </tr>\n",
       "    <tr>\n",
       "      <th>6769</th>\n",
       "      <td>Revelry - Kings Of Leon</td>\n",
       "      <td>30391</td>\n",
       "    </tr>\n",
       "    <tr>\n",
       "      <th>3608</th>\n",
       "      <td>Horn Concerto No. 4 in E flat K495: II. Romanc...</td>\n",
       "      <td>21953</td>\n",
       "    </tr>\n",
       "    <tr>\n",
       "      <th>7122</th>\n",
       "      <td>Sehr kosmisch - Harmonia</td>\n",
       "      <td>21646</td>\n",
       "    </tr>\n",
       "    <tr>\n",
       "      <th>2062</th>\n",
       "      <td>Dog Days Are Over (Radio Edit) - Florence + Th...</td>\n",
       "      <td>15889</td>\n",
       "    </tr>\n",
       "    <tr>\n",
       "      <th>7110</th>\n",
       "      <td>Secrets - OneRepublic</td>\n",
       "      <td>14149</td>\n",
       "    </tr>\n",
       "    <tr>\n",
       "      <th>243</th>\n",
       "      <td>Ain\\'t Misbehavin - Sam Cooke</td>\n",
       "      <td>14029</td>\n",
       "    </tr>\n",
       "    <tr>\n",
       "      <th>4217</th>\n",
       "      <td>Invalid - Tub Ring</td>\n",
       "      <td>13701</td>\n",
       "    </tr>\n",
       "    <tr>\n",
       "      <th>1384</th>\n",
       "      <td>Catch You Baby (Steve Pitron &amp; Max Sanna Radio...</td>\n",
       "      <td>12506</td>\n",
       "    </tr>\n",
       "  </tbody>\n",
       "</table>\n",
       "</div>"
      ],
      "text/plain": [
       "                                                   song  listen_count\n",
       "9873                    You\\'re The One - Dwight Yoakam         40619\n",
       "9077                                       Undo - Björk         36059\n",
       "6769                            Revelry - Kings Of Leon         30391\n",
       "3608  Horn Concerto No. 4 in E flat K495: II. Romanc...         21953\n",
       "7122                           Sehr kosmisch - Harmonia         21646\n",
       "2062  Dog Days Are Over (Radio Edit) - Florence + Th...         15889\n",
       "7110                              Secrets - OneRepublic         14149\n",
       "243                       Ain\\'t Misbehavin - Sam Cooke         14029\n",
       "4217                                 Invalid - Tub Ring         13701\n",
       "1384  Catch You Baby (Steve Pitron & Max Sanna Radio...         12506"
      ]
     },
     "execution_count": 36,
     "metadata": {},
     "output_type": "execute_result"
    }
   ],
   "source": [
    "top_songs"
   ]
  },
  {
   "cell_type": "code",
   "execution_count": 38,
   "id": "d3afc836",
   "metadata": {},
   "outputs": [
    {
     "data": {
      "text/html": [
       "<div>\n",
       "<style scoped>\n",
       "    .dataframe tbody tr th:only-of-type {\n",
       "        vertical-align: middle;\n",
       "    }\n",
       "\n",
       "    .dataframe tbody tr th {\n",
       "        vertical-align: top;\n",
       "    }\n",
       "\n",
       "    .dataframe thead th {\n",
       "        text-align: right;\n",
       "    }\n",
       "</style>\n",
       "<table border=\"1\" class=\"dataframe\">\n",
       "  <thead>\n",
       "    <tr style=\"text-align: right;\">\n",
       "      <th></th>\n",
       "      <th>user_id</th>\n",
       "      <th>song_id</th>\n",
       "      <th>listen_count</th>\n",
       "      <th>title</th>\n",
       "      <th>artist</th>\n",
       "      <th>song</th>\n",
       "    </tr>\n",
       "  </thead>\n",
       "  <tbody>\n",
       "    <tr>\n",
       "      <th>141</th>\n",
       "      <td>ed7d4c476013b1c3dd91982b61494bf7436083ba</td>\n",
       "      <td>SOHWXEU12A8C1320D1</td>\n",
       "      <td>5</td>\n",
       "      <td>Dans Ma Bulle (Edit Radio - Live 2006)</td>\n",
       "      <td>Diam\\'s</td>\n",
       "      <td>Dans Ma Bulle (Edit Radio - Live 2006) - Diam\\'s</td>\n",
       "    </tr>\n",
       "    <tr>\n",
       "      <th>452</th>\n",
       "      <td>d66f2f66f2bdc9aa3d0362a35fc91ccc844101f7</td>\n",
       "      <td>SOEYPYN12A8C134F4D</td>\n",
       "      <td>1</td>\n",
       "      <td>Brimful Of Asha - The Norman Cook Remix (Singl...</td>\n",
       "      <td>Cornershop</td>\n",
       "      <td>Brimful Of Asha - The Norman Cook Remix (Singl...</td>\n",
       "    </tr>\n",
       "    <tr>\n",
       "      <th>664</th>\n",
       "      <td>77cac5c3389010b64d01b30f725c24de4a5bb626</td>\n",
       "      <td>SOAFHIF12AB0184446</td>\n",
       "      <td>3</td>\n",
       "      <td>The Queen of Nothing</td>\n",
       "      <td>+ / - {Plus/Minus}</td>\n",
       "      <td>The Queen of Nothing - + / - {Plus/Minus}</td>\n",
       "    </tr>\n",
       "    <tr>\n",
       "      <th>765</th>\n",
       "      <td>edc8b7b1fd592a3b69c3d823a742e1a064abec95</td>\n",
       "      <td>SONIKQT12A8AE475DF</td>\n",
       "      <td>3</td>\n",
       "      <td>Love Is Gone (Original Mix)</td>\n",
       "      <td>David Guetta - Joachim Garraud - Chris Willis</td>\n",
       "      <td>Love Is Gone (Original Mix) - David Guetta - J...</td>\n",
       "    </tr>\n",
       "    <tr>\n",
       "      <th>941</th>\n",
       "      <td>c2cffe9ccaa09a327e8134e9a1f24901801fb2f8</td>\n",
       "      <td>SOCHPTV12A6BD53113</td>\n",
       "      <td>1</td>\n",
       "      <td>Die Kunst der Fuge_ BWV 1080 (2007 Digital Rem...</td>\n",
       "      <td>Lionel Rogg</td>\n",
       "      <td>Die Kunst der Fuge_ BWV 1080 (2007 Digital Rem...</td>\n",
       "    </tr>\n",
       "  </tbody>\n",
       "</table>\n",
       "</div>"
      ],
      "text/plain": [
       "                                      user_id             song_id  \\\n",
       "141  ed7d4c476013b1c3dd91982b61494bf7436083ba  SOHWXEU12A8C1320D1   \n",
       "452  d66f2f66f2bdc9aa3d0362a35fc91ccc844101f7  SOEYPYN12A8C134F4D   \n",
       "664  77cac5c3389010b64d01b30f725c24de4a5bb626  SOAFHIF12AB0184446   \n",
       "765  edc8b7b1fd592a3b69c3d823a742e1a064abec95  SONIKQT12A8AE475DF   \n",
       "941  c2cffe9ccaa09a327e8134e9a1f24901801fb2f8  SOCHPTV12A6BD53113   \n",
       "\n",
       "     listen_count                                              title  \\\n",
       "141             5             Dans Ma Bulle (Edit Radio - Live 2006)   \n",
       "452             1  Brimful Of Asha - The Norman Cook Remix (Singl...   \n",
       "664             3                               The Queen of Nothing   \n",
       "765             3                        Love Is Gone (Original Mix)   \n",
       "941             1  Die Kunst der Fuge_ BWV 1080 (2007 Digital Rem...   \n",
       "\n",
       "                                            artist  \\\n",
       "141                                        Diam\\'s   \n",
       "452                                     Cornershop   \n",
       "664                             + / - {Plus/Minus}   \n",
       "765  David Guetta - Joachim Garraud - Chris Willis   \n",
       "941                                    Lionel Rogg   \n",
       "\n",
       "                                                  song  \n",
       "141   Dans Ma Bulle (Edit Radio - Live 2006) - Diam\\'s  \n",
       "452  Brimful Of Asha - The Norman Cook Remix (Singl...  \n",
       "664          The Queen of Nothing - + / - {Plus/Minus}  \n",
       "765  Love Is Gone (Original Mix) - David Guetta - J...  \n",
       "941  Die Kunst der Fuge_ BWV 1080 (2007 Digital Rem...  "
      ]
     },
     "execution_count": 38,
     "metadata": {},
     "output_type": "execute_result"
    }
   ],
   "source": [
    "invalid_rows = df[df['song'].str.count(' - ') != 1]\n",
    "\n",
    "invalid_rows.head()"
   ]
  },
  {
   "cell_type": "code",
   "execution_count": 39,
   "id": "307e0d89",
   "metadata": {},
   "outputs": [],
   "source": [
    "df = df.drop(invalid_rows.index)"
   ]
  },
  {
   "cell_type": "code",
   "execution_count": null,
   "id": "5955cbf7",
   "metadata": {},
   "outputs": [],
   "source": []
  },
  {
   "cell_type": "code",
   "execution_count": 42,
   "id": "ef2838dc",
   "metadata": {},
   "outputs": [
    {
     "data": {
      "text/html": [
       "<div>\n",
       "<style scoped>\n",
       "    .dataframe tbody tr th:only-of-type {\n",
       "        vertical-align: middle;\n",
       "    }\n",
       "\n",
       "    .dataframe tbody tr th {\n",
       "        vertical-align: top;\n",
       "    }\n",
       "\n",
       "    .dataframe thead th {\n",
       "        text-align: right;\n",
       "    }\n",
       "</style>\n",
       "<table border=\"1\" class=\"dataframe\">\n",
       "  <thead>\n",
       "    <tr style=\"text-align: right;\">\n",
       "      <th></th>\n",
       "      <th>user_id</th>\n",
       "      <th>song_id</th>\n",
       "      <th>listen_count</th>\n",
       "      <th>title</th>\n",
       "      <th>artist</th>\n",
       "      <th>song</th>\n",
       "    </tr>\n",
       "  </thead>\n",
       "  <tbody>\n",
       "    <tr>\n",
       "      <th>0</th>\n",
       "      <td>b80344d063b5ccb3212f76538f3d9e43d87dca9e</td>\n",
       "      <td>SOAKIMP12A8C130995</td>\n",
       "      <td>1</td>\n",
       "      <td>The Cove</td>\n",
       "      <td>Jack Johnson</td>\n",
       "      <td>The Cove - Jack Johnson</td>\n",
       "    </tr>\n",
       "    <tr>\n",
       "      <th>1</th>\n",
       "      <td>b80344d063b5ccb3212f76538f3d9e43d87dca9e</td>\n",
       "      <td>SOBBMDR12A8C13253B</td>\n",
       "      <td>2</td>\n",
       "      <td>Entre Dos Aguas</td>\n",
       "      <td>Paco De Lucia</td>\n",
       "      <td>Entre Dos Aguas - Paco De Lucia</td>\n",
       "    </tr>\n",
       "    <tr>\n",
       "      <th>2</th>\n",
       "      <td>b80344d063b5ccb3212f76538f3d9e43d87dca9e</td>\n",
       "      <td>SOBXHDL12A81C204C0</td>\n",
       "      <td>1</td>\n",
       "      <td>Stronger</td>\n",
       "      <td>Kanye West</td>\n",
       "      <td>Stronger - Kanye West</td>\n",
       "    </tr>\n",
       "    <tr>\n",
       "      <th>3</th>\n",
       "      <td>b80344d063b5ccb3212f76538f3d9e43d87dca9e</td>\n",
       "      <td>SOBYHAJ12A6701BF1D</td>\n",
       "      <td>1</td>\n",
       "      <td>Constellations</td>\n",
       "      <td>Jack Johnson</td>\n",
       "      <td>Constellations - Jack Johnson</td>\n",
       "    </tr>\n",
       "    <tr>\n",
       "      <th>4</th>\n",
       "      <td>b80344d063b5ccb3212f76538f3d9e43d87dca9e</td>\n",
       "      <td>SODACBL12A8C13C273</td>\n",
       "      <td>1</td>\n",
       "      <td>Learn To Fly</td>\n",
       "      <td>Foo Fighters</td>\n",
       "      <td>Learn To Fly - Foo Fighters</td>\n",
       "    </tr>\n",
       "  </tbody>\n",
       "</table>\n",
       "</div>"
      ],
      "text/plain": [
       "                                    user_id             song_id  listen_count  \\\n",
       "0  b80344d063b5ccb3212f76538f3d9e43d87dca9e  SOAKIMP12A8C130995             1   \n",
       "1  b80344d063b5ccb3212f76538f3d9e43d87dca9e  SOBBMDR12A8C13253B             2   \n",
       "2  b80344d063b5ccb3212f76538f3d9e43d87dca9e  SOBXHDL12A81C204C0             1   \n",
       "3  b80344d063b5ccb3212f76538f3d9e43d87dca9e  SOBYHAJ12A6701BF1D             1   \n",
       "4  b80344d063b5ccb3212f76538f3d9e43d87dca9e  SODACBL12A8C13C273             1   \n",
       "\n",
       "             title         artist                             song  \n",
       "0         The Cove   Jack Johnson          The Cove - Jack Johnson  \n",
       "1  Entre Dos Aguas  Paco De Lucia  Entre Dos Aguas - Paco De Lucia  \n",
       "2         Stronger     Kanye West            Stronger - Kanye West  \n",
       "3   Constellations   Jack Johnson    Constellations - Jack Johnson  \n",
       "4     Learn To Fly   Foo Fighters      Learn To Fly - Foo Fighters  "
      ]
     },
     "execution_count": 42,
     "metadata": {},
     "output_type": "execute_result"
    }
   ],
   "source": [
    "df[['title', 'artist']] = df['song'].str.split(' - ', expand=True)\n",
    "df.drop('song', axis=1)\n",
    "df.head()"
   ]
  },
  {
   "cell_type": "code",
   "execution_count": 43,
   "id": "40a0814a",
   "metadata": {},
   "outputs": [
    {
     "data": {
      "text/html": [
       "<div>\n",
       "<style scoped>\n",
       "    .dataframe tbody tr th:only-of-type {\n",
       "        vertical-align: middle;\n",
       "    }\n",
       "\n",
       "    .dataframe tbody tr th {\n",
       "        vertical-align: top;\n",
       "    }\n",
       "\n",
       "    .dataframe thead th {\n",
       "        text-align: right;\n",
       "    }\n",
       "</style>\n",
       "<table border=\"1\" class=\"dataframe\">\n",
       "  <thead>\n",
       "    <tr style=\"text-align: right;\">\n",
       "      <th></th>\n",
       "      <th>user_id</th>\n",
       "      <th>song_id</th>\n",
       "      <th>listen_count</th>\n",
       "      <th>title</th>\n",
       "      <th>artist</th>\n",
       "      <th>song</th>\n",
       "    </tr>\n",
       "  </thead>\n",
       "  <tbody>\n",
       "    <tr>\n",
       "      <th>1116604</th>\n",
       "      <td>276e43ad698705e5011e5091f367d951b21246f5</td>\n",
       "      <td>SOWTYVO12AB0180BDA</td>\n",
       "      <td>8</td>\n",
       "      <td>Surf Wax America</td>\n",
       "      <td>Weezer</td>\n",
       "      <td>Surf Wax America - Weezer</td>\n",
       "    </tr>\n",
       "    <tr>\n",
       "      <th>1116605</th>\n",
       "      <td>276e43ad698705e5011e5091f367d951b21246f5</td>\n",
       "      <td>SOWZHOY12A6701F9FC</td>\n",
       "      <td>1</td>\n",
       "      <td>Kill The King</td>\n",
       "      <td>Megadeth</td>\n",
       "      <td>Kill The King - Megadeth</td>\n",
       "    </tr>\n",
       "    <tr>\n",
       "      <th>1116606</th>\n",
       "      <td>276e43ad698705e5011e5091f367d951b21246f5</td>\n",
       "      <td>SOXJOZW12A6701E90E</td>\n",
       "      <td>7</td>\n",
       "      <td>You Think I Ain\\'t Worth A Dollar_ But I Feel ...</td>\n",
       "      <td>Queens Of The Stone Age</td>\n",
       "      <td>You Think I Ain\\'t Worth A Dollar_ But I Feel ...</td>\n",
       "    </tr>\n",
       "    <tr>\n",
       "      <th>1116607</th>\n",
       "      <td>276e43ad698705e5011e5091f367d951b21246f5</td>\n",
       "      <td>SOXNKNC12A6701F7A8</td>\n",
       "      <td>1</td>\n",
       "      <td>Superbeast</td>\n",
       "      <td>Rob Zombie</td>\n",
       "      <td>Superbeast - Rob Zombie</td>\n",
       "    </tr>\n",
       "    <tr>\n",
       "      <th>1116608</th>\n",
       "      <td>276e43ad698705e5011e5091f367d951b21246f5</td>\n",
       "      <td>SOYRMVO12A6701D106</td>\n",
       "      <td>1</td>\n",
       "      <td>Keep Away</td>\n",
       "      <td>Godsmack</td>\n",
       "      <td>Keep Away - Godsmack</td>\n",
       "    </tr>\n",
       "  </tbody>\n",
       "</table>\n",
       "</div>"
      ],
      "text/plain": [
       "                                          user_id             song_id  \\\n",
       "1116604  276e43ad698705e5011e5091f367d951b21246f5  SOWTYVO12AB0180BDA   \n",
       "1116605  276e43ad698705e5011e5091f367d951b21246f5  SOWZHOY12A6701F9FC   \n",
       "1116606  276e43ad698705e5011e5091f367d951b21246f5  SOXJOZW12A6701E90E   \n",
       "1116607  276e43ad698705e5011e5091f367d951b21246f5  SOXNKNC12A6701F7A8   \n",
       "1116608  276e43ad698705e5011e5091f367d951b21246f5  SOYRMVO12A6701D106   \n",
       "\n",
       "         listen_count                                              title  \\\n",
       "1116604             8                                   Surf Wax America   \n",
       "1116605             1                                      Kill The King   \n",
       "1116606             7  You Think I Ain\\'t Worth A Dollar_ But I Feel ...   \n",
       "1116607             1                                         Superbeast   \n",
       "1116608             1                                          Keep Away   \n",
       "\n",
       "                          artist  \\\n",
       "1116604                   Weezer   \n",
       "1116605                 Megadeth   \n",
       "1116606  Queens Of The Stone Age   \n",
       "1116607               Rob Zombie   \n",
       "1116608                 Godsmack   \n",
       "\n",
       "                                                      song  \n",
       "1116604                          Surf Wax America - Weezer  \n",
       "1116605                           Kill The King - Megadeth  \n",
       "1116606  You Think I Ain\\'t Worth A Dollar_ But I Feel ...  \n",
       "1116607                            Superbeast - Rob Zombie  \n",
       "1116608                               Keep Away - Godsmack  "
      ]
     },
     "execution_count": 43,
     "metadata": {},
     "output_type": "execute_result"
    }
   ],
   "source": [
    "df.tail()"
   ]
  },
  {
   "cell_type": "code",
   "execution_count": 44,
   "id": "95838840",
   "metadata": {},
   "outputs": [
    {
     "data": {
      "text/html": [
       "<div>\n",
       "<style scoped>\n",
       "    .dataframe tbody tr th:only-of-type {\n",
       "        vertical-align: middle;\n",
       "    }\n",
       "\n",
       "    .dataframe tbody tr th {\n",
       "        vertical-align: top;\n",
       "    }\n",
       "\n",
       "    .dataframe thead th {\n",
       "        text-align: right;\n",
       "    }\n",
       "</style>\n",
       "<table border=\"1\" class=\"dataframe\">\n",
       "  <thead>\n",
       "    <tr style=\"text-align: right;\">\n",
       "      <th></th>\n",
       "      <th>artist</th>\n",
       "      <th>title</th>\n",
       "      <th>listen_count</th>\n",
       "    </tr>\n",
       "  </thead>\n",
       "  <tbody>\n",
       "    <tr>\n",
       "      <th>2705</th>\n",
       "      <td>Dwight Yoakam</td>\n",
       "      <td>You\\'re The One</td>\n",
       "      <td>40619</td>\n",
       "    </tr>\n",
       "    <tr>\n",
       "      <th>1107</th>\n",
       "      <td>Björk</td>\n",
       "      <td>Undo</td>\n",
       "      <td>36059</td>\n",
       "    </tr>\n",
       "    <tr>\n",
       "      <th>4889</th>\n",
       "      <td>Kings Of Leon</td>\n",
       "      <td>Revelry</td>\n",
       "      <td>30391</td>\n",
       "    </tr>\n",
       "    <tr>\n",
       "      <th>821</th>\n",
       "      <td>Barry Tuckwell/Academy of St Martin-in-the-Fie...</td>\n",
       "      <td>Horn Concerto No. 4 in E flat K495: II. Romanc...</td>\n",
       "      <td>21953</td>\n",
       "    </tr>\n",
       "    <tr>\n",
       "      <th>3791</th>\n",
       "      <td>Harmonia</td>\n",
       "      <td>Sehr kosmisch</td>\n",
       "      <td>21646</td>\n",
       "    </tr>\n",
       "  </tbody>\n",
       "</table>\n",
       "</div>"
      ],
      "text/plain": [
       "                                                 artist  \\\n",
       "2705                                      Dwight Yoakam   \n",
       "1107                                              Björk   \n",
       "4889                                      Kings Of Leon   \n",
       "821   Barry Tuckwell/Academy of St Martin-in-the-Fie...   \n",
       "3791                                           Harmonia   \n",
       "\n",
       "                                                  title  listen_count  \n",
       "2705                                    You\\'re The One         40619  \n",
       "1107                                               Undo         36059  \n",
       "4889                                            Revelry         30391  \n",
       "821   Horn Concerto No. 4 in E flat K495: II. Romanc...         21953  \n",
       "3791                                      Sehr kosmisch         21646  "
      ]
     },
     "execution_count": 44,
     "metadata": {},
     "output_type": "execute_result"
    }
   ],
   "source": [
    "artist_counts = df.groupby(['artist', 'title'])['listen_count'].sum().reset_index()\n",
    "artist_counts_sorted = artist_counts.sort_values(['listen_count'], ascending=False)\n",
    "\n",
    "artist_counts_sorted.head()"
   ]
  },
  {
   "cell_type": "code",
   "execution_count": 45,
   "id": "91ded59b",
   "metadata": {},
   "outputs": [],
   "source": [
    "top_tracks_by_artist = {}\n",
    "for artist in artist_counts_sorted['artist'].unique():\n",
    "    artist_tracks = artist_counts_sorted[artist_counts_sorted['artist'] == artist].head(5)\n",
    "    top_tracks = list(artist_tracks['title'])\n",
    "    top_tracks_by_artist[artist] = top_tracks"
   ]
  },
  {
   "cell_type": "code",
   "execution_count": 52,
   "id": "c850e0e6",
   "metadata": {},
   "outputs": [],
   "source": [
    "# top_tracks_by_artist"
   ]
  },
  {
   "cell_type": "code",
   "execution_count": 53,
   "id": "2c9ac6cf",
   "metadata": {},
   "outputs": [
    {
     "data": {
      "text/plain": [
       "['Revelry', 'Use Somebody', 'Be Somebody', 'Manhattan', \"Molly\\\\'s Chambers\"]"
      ]
     },
     "execution_count": 53,
     "metadata": {},
     "output_type": "execute_result"
    }
   ],
   "source": [
    "top_tracks_by_artist['Kings Of Leon']"
   ]
  },
  {
   "cell_type": "code",
   "execution_count": 54,
   "id": "e5b60ef9",
   "metadata": {},
   "outputs": [
    {
     "data": {
      "text/plain": [
       "user_id                                   artist                       \n",
       "00003a4459f33b92906be11abe0e93efc423c0ff  Black Eyed Peas                   1\n",
       "                                          David Crowder*Band                1\n",
       "                                          Gian Marco                        3\n",
       "                                          Marisa Monte                      3\n",
       "                                          PFR                               4\n",
       "                                                                           ..\n",
       "fffe6d1d8500f1c1f31bd63abce35c0f975a86bf  Joe Nichols                      10\n",
       "                                          Kings Of Leon                     1\n",
       "                                          Outkast Featuring Killer Mike     5\n",
       "                                          Peaches & Herb                    4\n",
       "fffea3d509760c984e7d40789804c0e5e289cc86  Daft Punk                        23\n",
       "Name: listen_count, Length: 837717, dtype: int64"
      ]
     },
     "execution_count": 54,
     "metadata": {},
     "output_type": "execute_result"
    }
   ],
   "source": [
    "grouped = df.groupby(['user_id', 'artist'])['listen_count'].sum()\n",
    "grouped"
   ]
  },
  {
   "cell_type": "code",
   "execution_count": 55,
   "id": "c40af497",
   "metadata": {},
   "outputs": [
    {
     "data": {
      "text/plain": [
       "user_id\n",
       "00003a4459f33b92906be11abe0e93efc423c0ff      (00003a4459f33b92906be11abe0e93efc423c0ff, PFR)\n",
       "00005c6177188f12fb5e2e82cdbd93e8a3f35e64    (00005c6177188f12fb5e2e82cdbd93e8a3f35e64, Whi...\n",
       "00030033e3a2f904a48ec1dd53019c9969b6ef1f    (00030033e3a2f904a48ec1dd53019c9969b6ef1f, One...\n",
       "0007235c769e610e3d339a17818a5708e41008d9    (0007235c769e610e3d339a17818a5708e41008d9, Twi...\n",
       "0007c0e74728ca9ef0fe4eb7f75732e8026a278b    (0007c0e74728ca9ef0fe4eb7f75732e8026a278b, Ala...\n",
       "                                                                  ...                        \n",
       "fffce9c1537fbc350ea68823d956eaa8f5236dbe    (fffce9c1537fbc350ea68823d956eaa8f5236dbe, Wha...\n",
       "fffd6a2bdef646ce9898b628d5dd56c43df69a9d    (fffd6a2bdef646ce9898b628d5dd56c43df69a9d, Doc...\n",
       "fffd9635b33f412de8ed02e44e6564e3644cf3c6    (fffd9635b33f412de8ed02e44e6564e3644cf3c6, Fou...\n",
       "fffe6d1d8500f1c1f31bd63abce35c0f975a86bf    (fffe6d1d8500f1c1f31bd63abce35c0f975a86bf, Joe...\n",
       "fffea3d509760c984e7d40789804c0e5e289cc86    (fffea3d509760c984e7d40789804c0e5e289cc86, Daf...\n",
       "Name: listen_count, Length: 66337, dtype: object"
      ]
     },
     "execution_count": 55,
     "metadata": {},
     "output_type": "execute_result"
    }
   ],
   "source": [
    "idx = grouped.groupby('user_id').idxmax()\n",
    "idx"
   ]
  },
  {
   "cell_type": "code",
   "execution_count": 16,
   "id": "7db87c05",
   "metadata": {},
   "outputs": [
    {
     "data": {
      "text/plain": [
       "user_id\n",
       "00003a4459f33b92906be11abe0e93efc423c0ff                                       PFR\n",
       "00005c6177188f12fb5e2e82cdbd93e8a3f35e64    Whitney Houston Duet With Mariah Carey\n",
       "00030033e3a2f904a48ec1dd53019c9969b6ef1f                               OneRepublic\n",
       "0007235c769e610e3d339a17818a5708e41008d9                                    Twista\n",
       "0007c0e74728ca9ef0fe4eb7f75732e8026a278b                         Alanis Morissette\n",
       "                                                             ...                  \n",
       "fffce9c1537fbc350ea68823d956eaa8f5236dbe                              What We Feel\n",
       "fffd6a2bdef646ce9898b628d5dd56c43df69a9d                        Doc & Merle Watson\n",
       "fffd9635b33f412de8ed02e44e6564e3644cf3c6                                  Four Tet\n",
       "fffe6d1d8500f1c1f31bd63abce35c0f975a86bf                               Joe Nichols\n",
       "fffea3d509760c984e7d40789804c0e5e289cc86                                 Daft Punk\n",
       "Name: listen_count, Length: 66337, dtype: object"
      ]
     },
     "execution_count": 16,
     "metadata": {},
     "output_type": "execute_result"
    }
   ],
   "source": [
    "favorite_artist = idx.apply(lambda x: x[1])\n",
    "favorite_artist"
   ]
  },
  {
   "cell_type": "code",
   "execution_count": 56,
   "id": "57492a90",
   "metadata": {},
   "outputs": [],
   "source": [
    "listen_count = grouped.loc[idx].values\n",
    "user_data = dict(zip(favorite_artist.index, [{'favorite_artist': a, 'listen_count': c} for a, c in zip(favorite_artist, listen_count)]))"
   ]
  },
  {
   "cell_type": "code",
   "execution_count": 57,
   "id": "cd9a9c96",
   "metadata": {},
   "outputs": [
    {
     "data": {
      "text/plain": [
       "{'favorite_artist': 'PFR', 'listen_count': 4}"
      ]
     },
     "execution_count": 57,
     "metadata": {},
     "output_type": "execute_result"
    }
   ],
   "source": [
    "user_data['00003a4459f33b92906be11abe0e93efc423c0ff']"
   ]
  },
  {
   "cell_type": "code",
   "execution_count": 58,
   "id": "5dc46144",
   "metadata": {},
   "outputs": [],
   "source": [
    "def Recommender():\n",
    "    user_id = input('enter user ID')\n",
    "    users_favorite_artist = user_data[user_id]['favorite_artist']\n",
    "    print(top_tracks_by_artist[users_favorite_artist])"
   ]
  },
  {
   "cell_type": "code",
   "execution_count": 23,
   "id": "302ab5d6",
   "metadata": {},
   "outputs": [
    {
     "name": "stdout",
     "output_type": "stream",
     "text": [
      "enter user ID00005c6177188f12fb5e2e82cdbd93e8a3f35e64\n",
      "['When You Believe']\n"
     ]
    }
   ],
   "source": [
    "Recommender()"
   ]
  },
  {
   "cell_type": "code",
   "execution_count": 24,
   "id": "16e69956",
   "metadata": {},
   "outputs": [
    {
     "name": "stdout",
     "output_type": "stream",
     "text": [
      "enter user ID0007235c769e610e3d339a17818a5708e41008d9\n",
      "['Sunshine (Feat. Anthony Hamilton) (Edited Album Version)', 'Girl Tonite [Featuring Trey Songz] [Explicit Album Version]', 'So Lonely (featuring Mariah Carey) (Explicit Album Version)']\n"
     ]
    }
   ],
   "source": [
    "Recommender()"
   ]
  },
  {
   "cell_type": "code",
   "execution_count": 25,
   "id": "8bca6158",
   "metadata": {},
   "outputs": [
    {
     "name": "stdout",
     "output_type": "stream",
     "text": [
      "enter user IDfffd6a2bdef646ce9898b628d5dd56c43df69a9d\n",
      "['Solid Gone']\n"
     ]
    }
   ],
   "source": [
    "Recommender()"
   ]
  },
  {
   "cell_type": "code",
   "execution_count": 26,
   "id": "4c499463",
   "metadata": {},
   "outputs": [
    {
     "name": "stdout",
     "output_type": "stream",
     "text": [
      "enter user ID276e43ad698705e5011e5091f367d951b21246f5\n",
      "['Island In The Sun', 'Surf Wax America', 'Buddy Holly', \"Say It Ain\\\\'t So\", 'El Scorcho']\n"
     ]
    }
   ],
   "source": [
    "Recommender()"
   ]
  },
  {
   "cell_type": "code",
   "execution_count": 27,
   "id": "ed2f04c3",
   "metadata": {},
   "outputs": [
    {
     "name": "stdout",
     "output_type": "stream",
     "text": [
      "enter user IDea07020bb223c733ccc55aa925ebcc25c4d97377\n",
      "['Amazing', 'Fly Like An Eagle']\n"
     ]
    }
   ],
   "source": [
    "Recommender()"
   ]
  }
 ],
 "metadata": {
  "kernelspec": {
   "display_name": "Python 3 (ipykernel)",
   "language": "python",
   "name": "python3"
  },
  "language_info": {
   "codemirror_mode": {
    "name": "ipython",
    "version": 3
   },
   "file_extension": ".py",
   "mimetype": "text/x-python",
   "name": "python",
   "nbconvert_exporter": "python",
   "pygments_lexer": "ipython3",
   "version": "3.8.0"
  }
 },
 "nbformat": 4,
 "nbformat_minor": 5
}
