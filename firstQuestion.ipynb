{
 "cells": [
  {
   "cell_type": "code",
   "execution_count": 3,
   "id": "b14c84ee",
   "metadata": {},
   "outputs": [],
   "source": [
    "import random\n",
    "import math\n",
    "import matplotlib.pyplot as plt\n",
    "import time"
   ]
  },
  {
   "cell_type": "code",
   "execution_count": 4,
   "id": "cde22158",
   "metadata": {},
   "outputs": [
    {
     "name": "stdout",
     "output_type": "stream",
     "text": [
      "5.830951894845301\n"
     ]
    }
   ],
   "source": [
    "def distance(p, q):\n",
    "    return math.sqrt((p[0] - q[0]) ** 2 + (p[1] - q[1]) ** 2)\n",
    "print(distance((3, 4), (6, 9)))"
   ]
  },
  {
   "cell_type": "code",
   "execution_count": 5,
   "id": "f997ee8f",
   "metadata": {},
   "outputs": [
    {
     "name": "stdout",
     "output_type": "stream",
     "text": [
      "(6.0, 7.666666666666667)\n"
     ]
    }
   ],
   "source": [
    "def centroid(points):\n",
    "    x = sum(p[0] for p in points) / len(points)\n",
    "    y = sum(p[1] for p in points) / len(points)\n",
    "    return (x, y)\n",
    "points = [(1, 2), (3, 8), (5, 6), (7, 8), (9, 10), (11, 12)]\n",
    "print(centroid(points))"
   ]
  },
  {
   "cell_type": "code",
   "execution_count": 6,
   "id": "98411ef8",
   "metadata": {},
   "outputs": [
    {
     "name": "stdout",
     "output_type": "stream",
     "text": [
      "[[(5, 7), (2, 6), (7, 5), (6, 2), (5, 7)], [(1, 3), (0, 2), (0, 0), (-3, 5), (-1, -3), (2, 0), (-2, 8), (-3, -1), (0, 0), (-2, 6), (-1, -3)], [(4, -1), (8, -2), (5, -3), (3, -1)]]\n"
     ]
    }
   ],
   "source": [
    "def kmeans(points, k, max_iterations=100):\n",
    "    centroids = random.sample(points, k)\n",
    "\n",
    "    for i in range(max_iterations):\n",
    "        clusters = [[] for i in range(k)]\n",
    "        for point in points:\n",
    "            distances = [distance(point, centroid) for centroid in centroids]\n",
    "            closest_centroid = distances.index(min(distances))\n",
    "            clusters[closest_centroid].append(point)\n",
    "\n",
    "        new_centroids = []\n",
    "        for cluster in clusters:\n",
    "            if cluster:\n",
    "                new_centroids.append(centroid(cluster))\n",
    "            else:\n",
    "                new_centroids.append(random.choice(points))\n",
    "        centroids = new_centroids\n",
    "\n",
    "    return clusters\n",
    "points = [(1, 3), (5, 7), (0, 2), (4, -1), (0, 0), (2, 6), (-3, 5), (8, -2), (-1, -3), (7, 5), (2, 0), (6, 2), (5, -3), (-2, 8), (-3, -1), (3, -1), (0, 0), (-2, 6), (5, 7), (-1, -3)]\n",
    "print(kmeans(points, 3))\n"
   ]
  },
  {
   "cell_type": "code",
   "execution_count": 7,
   "id": "423aed45",
   "metadata": {},
   "outputs": [
    {
     "data": {
      "image/png": "[encoded data removed]",
      "text/plain": [
       "<Figure size 432x288 with 1 Axes>"
      ]
     },
     "metadata": {
      "needs_background": "light"
     },
     "output_type": "display_data"
    }
   ],
   "source": [
    "clusters = [[(1, 3), (0, 2), (-3, 5), (-2, 8), (-2, 6)],\n",
    "            [(5, 7), (2, 6), (7, 5), (6, 2), (5, 7)],\n",
    "            [(4, -1), (0, 0), (8, -2), (-1, -3), (2, 0), (5, -3), (-3, -1), (3, -1), (0, 0), (-1, -3)]]\n",
    "\n",
    "colors = ['red', 'green', 'blue']\n",
    "\n",
    "for i, cluster in enumerate(clusters):\n",
    "    x_values = [point[0] for point in cluster]\n",
    "    y_values = [point[1] for point in cluster]\n",
    "    plt.scatter(x_values, y_values, color=colors[i])\n",
    "\n",
    "plt.xlabel('X')\n",
    "plt.ylabel('Y')\n",
    "plt.show()"
   ]
  },
  {
   "cell_type": "code",
   "execution_count": 23,
   "id": "e71156d5",
   "metadata": {},
   "outputs": [
    {
     "name": "stdout",
     "output_type": "stream",
     "text": [
      "2.0\n"
     ]
    }
   ],
   "source": [
    "def find_closest_points(clusters):\n",
    "    distances = {}\n",
    "    for i, cluster_i in enumerate(clusters):\n",
    "        for j in range(i+1, len(clusters)):\n",
    "            cluster_j = clusters[j]\n",
    "            for point_i in cluster_i:\n",
    "                for point_j in cluster_j:\n",
    "                    dist = round(math.sqrt((point_i[0] - point_j[0]) ** 2 + (point_i[1] - point_j[1]) ** 2),7)\n",
    "                    if (point_i, point_j) not in distances and (point_j, point_i) not in distances:\n",
    "                        distances[(point_i, point_j)] = dist\n",
    "                        \n",
    "    sorted_distances = sorted(distances.items(), key=lambda x: x[1])\n",
    "    return sorted_distances[0][1]\n",
    "\n",
    "print(find_closest_points(clusters))"
   ]
  },
  {
   "cell_type": "code",
   "execution_count": 24,
   "id": "c210b15d",
   "metadata": {},
   "outputs": [
    {
     "name": "stdout",
     "output_type": "stream",
     "text": [
      "12\n",
      "7 6\n",
      "4 3\n",
      "5 1\n",
      "1 7\n",
      "2 7\n",
      "5 7\n",
      "3 3\n",
      "7 8\n",
      "2 8\n",
      "4 4\n",
      "6 7\n",
      "2 6\n",
      "3\n"
     ]
    }
   ],
   "source": [
    "n = int(input())\n",
    "points = []\n",
    "for i in range(n):\n",
    "    x, y = input().split()\n",
    "    points.append((int(x), int(y)))\n",
    "k = int(input())"
   ]
  },
  {
   "cell_type": "code",
   "execution_count": 34,
   "id": "711199bf",
   "metadata": {},
   "outputs": [
    {
     "name": "stdout",
     "output_type": "stream",
     "text": [
      "shortest distance is: 2.8284271\n",
      "time: 0.007204771041870117 seconds\n"
     ]
    }
   ],
   "source": [
    "time1 = time.time()\n",
    "print(f\"shortest distance is: {find_closest_points(kmeans(points, k))}\")\n",
    "time2 = time.time()\n",
    "print(f\"time: {time2-time1} seconds\")"
   ]
  },
  {
   "cell_type": "code",
   "execution_count": 54,
   "id": "a601dd12",
   "metadata": {},
   "outputs": [],
   "source": [
    "minn = -100.0\n",
    "maxx = 100.0\n",
    "points = [(random.uniform(minn, maxx), random.uniform(minn, maxx)) for i in range(200)]\n"
   ]
  },
  {
   "cell_type": "code",
   "execution_count": 62,
   "id": "80d4af8d",
   "metadata": {},
   "outputs": [
    {
     "data": {
      "text/plain": [
       "[(-78.16500584914348, -32.234257135155445),\n",
       " (-93.8927820026307, 51.07258289914495),\n",
       " (-10.259812538022459, -98.7086905298515),\n",
       " (91.97613870845163, -51.745329280652186),\n",
       " (87.80885362642329, -74.49058481622134),\n",
       " (-36.87475813983918, -99.79378897731239),\n",
       " (67.34143870572208, -25.16679945090408),\n",
       " (59.03241892444993, 13.785536694730212),\n",
       " (99.90706536051368, 80.36133645551345),\n",
       " (-61.52645969386343, -56.74969995534156),\n",
       " (67.01360497306894, -57.781639161122776),\n",
       " (77.6688897327696, 71.35349706667702),\n",
       " (37.69209555400752, -10.40564895482406),\n",
       " (-55.25247774487274, 72.58968294504439),\n",
       " (-55.63480927976359, 58.54505252674704),\n",
       " (4.94369765939912, -74.99611932394012),\n",
       " (-33.80944618005046, -77.32271155910213),\n",
       " (85.07673268138794, 2.091919740140952),\n",
       " (45.23608602455735, -27.304938382977355),\n",
       " (71.55833200669034, -35.32236070763912),\n",
       " (-93.47862395036486, -99.14574363349118),\n",
       " (-11.475463083809686, 77.99815152513997),\n",
       " (-47.70576754741263, -38.47950320159115),\n",
       " (-24.12981880556957, 52.314768128704344),\n",
       " (-81.09014293709271, -10.151808693874102),\n",
       " (-80.85042257544066, 77.29286077729333),\n",
       " (44.60629104149635, 54.43586516960971),\n",
       " (-84.10474452994646, 92.75266777854802),\n",
       " (-31.174829536084943, -24.312318558832274),\n",
       " (84.38191868719971, -9.337714346893506),\n",
       " (-30.458260255045502, -30.67439682923481),\n",
       " (-38.3484547566356, -62.021929054965305),\n",
       " (92.14779120656286, 91.53262304652944),\n",
       " (-37.06734338670108, 99.76888349654206),\n",
       " (-55.540607933832156, 57.82758920739971),\n",
       " (5.733871128064806, -75.50891840639866),\n",
       " (22.05295050615679, -80.56544824742852),\n",
       " (-48.59477560214744, -84.26022281342847),\n",
       " (85.90700174990869, -96.67518453063761),\n",
       " (-44.90228149592623, -47.49294111887998),\n",
       " (60.03934454885186, -43.328538548959884),\n",
       " (96.39122453177731, -16.665222100043692),\n",
       " (-14.205338818559568, -17.017884502370478),\n",
       " (88.82058267143785, -24.08526266635556),\n",
       " (11.014324288940642, 7.605057725337659),\n",
       " (-96.59414839718829, 16.873297409501077),\n",
       " (-56.708795525040244, -53.67585543225193),\n",
       " (2.4710194035797173, -47.95341176337633),\n",
       " (4.442711655702354, 90.87109786689106),\n",
       " (-85.4687348370899, -60.34280118071527),\n",
       " (-73.62629645446235, 14.60821969496719),\n",
       " (16.73845252886028, -15.14726205057508),\n",
       " (42.07925328364098, -91.75759707273446),\n",
       " (56.77102704746926, 77.19364221822536),\n",
       " (-34.346051410998896, -55.58160711976106),\n",
       " (-33.37363823234803, -35.7266080634606),\n",
       " (81.60922284349067, 84.27716669604146),\n",
       " (84.885932190793, 20.73924377991723),\n",
       " (-16.255724300196235, 94.39017935090078),\n",
       " (-11.903629973347464, 5.482720831844617),\n",
       " (12.410154502830522, -64.7713752925965),\n",
       " (-64.84835581515016, -36.32223442959215),\n",
       " (-32.82003273153002, -3.6108660398150647),\n",
       " (10.467997032419035, -23.12349690607023),\n",
       " (-14.506784283759316, -35.47544794520974),\n",
       " (-47.386810171726104, -98.38684539993481),\n",
       " (-51.137099297208955, 43.802539500596566),\n",
       " (-8.41011852977931, -28.590329467878163),\n",
       " (-97.00307231553968, -37.08601650529193),\n",
       " (-32.46972777604009, -76.55073680933467),\n",
       " (40.85529985420558, -69.1985034192717),\n",
       " (21.282925982407704, 7.262250428188665),\n",
       " (58.45250116038625, 90.40262246999436),\n",
       " (91.49432382776172, -62.89112138887947),\n",
       " (18.973688851234854, -56.70309232799866),\n",
       " (11.968049114695418, -92.34310413897646),\n",
       " (23.84060213583288, 97.43260315373854),\n",
       " (95.92503161286982, -33.99898901934158),\n",
       " (-28.128511871951403, 30.48976831238761),\n",
       " (87.88437617093021, 69.94448473024192),\n",
       " (37.999714494020964, 94.70873696411286),\n",
       " (-31.18330770942225, -48.75147812384466),\n",
       " (40.457458940402546, -30.881882568597632),\n",
       " (-66.60662288171133, 98.43802776070396),\n",
       " (-62.23023817507658, 27.582870048971813),\n",
       " (10.279392621626755, -27.349875913888027),\n",
       " (-11.627807747686106, -95.28741718315223),\n",
       " (42.27193898305998, -63.85651900922002),\n",
       " (66.73256954015113, 76.05075354085079),\n",
       " (95.56641543813157, 23.54648159238677),\n",
       " (22.10611019572903, 46.52322765392668),\n",
       " (50.98638383970939, 70.36148093678491),\n",
       " (92.2329042870339, 67.70406663314077),\n",
       " (-75.96984457862135, -44.86637483873508),\n",
       " (-44.16404657296476, -54.15313332543956),\n",
       " (-46.62434604866552, 49.12758661759028),\n",
       " (-26.716912255768705, -76.6741823470081),\n",
       " (48.73763732071609, 8.453390907911682),\n",
       " (-86.30104742145492, 71.0605710426538),\n",
       " (-71.55422544233096, 43.13278822954524),\n",
       " (12.660559931554928, -69.14910350741606),\n",
       " (5.538684633503976, 69.8884233795419),\n",
       " (-21.592026468465832, -4.140794374947902),\n",
       " (-28.373694243425973, -60.0466541164975),\n",
       " (71.11044987873905, 2.81905710121994),\n",
       " (45.60555630058383, 43.07384091607099),\n",
       " (-49.69105348104919, -76.75692855382219),\n",
       " (14.95898116301393, -99.74163638247155),\n",
       " (1.0020528365850936, 6.1081374260889305),\n",
       " (87.15328304797953, 17.493574133404493),\n",
       " (21.328935374722732, -86.55412726178841),\n",
       " (-97.65142473727948, 45.86248411548698),\n",
       " (-64.02394755163704, 14.340568447152307),\n",
       " (-19.58521398040392, 82.3712444214238),\n",
       " (29.877773048474296, -90.49591638871249),\n",
       " (-57.63530877049905, -75.63719187209239),\n",
       " (18.568985016196123, 42.298608471974916),\n",
       " (47.577859350800935, -15.497895771657369),\n",
       " (-60.61428124994632, 18.039037660369047),\n",
       " (-3.7705376387886247, -46.69128019843667),\n",
       " (-43.203076905524476, -60.605656547714325),\n",
       " (65.20077637963342, -14.100244725225465),\n",
       " (-14.778039409209498, -59.57045451841773),\n",
       " (46.31300914847546, -17.086224004969935),\n",
       " (-45.694609918020454, -82.91793852983342),\n",
       " (3.301384741285318, 14.243255571886777),\n",
       " (-43.61412599060355, -29.435168976912877),\n",
       " (44.295822135693044, -82.09076746063585),\n",
       " (6.865227774511155, 66.73003473095781),\n",
       " (73.76049922871738, -90.09172122901424),\n",
       " (10.28727450096747, -14.684620473071575),\n",
       " (-7.584049601579451, 59.56638325591945),\n",
       " (-50.3188394235095, -59.17373383480342),\n",
       " (-77.42859115950668, -29.712802356302205),\n",
       " (57.38504672967949, 87.34725343845176),\n",
       " (-0.26997877104599866, -22.848741606318328),\n",
       " (-79.88486061126218, -20.000723006244982),\n",
       " (66.73138295914117, 44.49798913726363),\n",
       " (-35.948308524810884, 17.061366893475395),\n",
       " (85.56783649891301, -13.246481284450141),\n",
       " (-4.863396206537615, 86.10716292447543),\n",
       " (-2.0224307519519584, 5.197821136109454),\n",
       " (-81.0598016365791, -54.98884521733633),\n",
       " (-90.489888027398, -70.84661256587093),\n",
       " (-70.12203648082642, -38.13793118637945),\n",
       " (-37.35200721375551, 41.76779123557466),\n",
       " (99.7156385536737, -48.30827971783496),\n",
       " (-42.63796204512147, -45.77743201433761),\n",
       " (-28.89236525220977, 92.47187010264085),\n",
       " (-34.45869569867979, -30.41257718966625),\n",
       " (-54.157859462158406, -97.89494320709215),\n",
       " (-56.822757296305724, 45.42028634972186),\n",
       " (46.5949532960482, 45.317793930605404),\n",
       " (87.04146431919756, -29.641672285524606),\n",
       " (-7.8484456854108515, -45.32479361165696),\n",
       " (-27.515310333159462, -57.26034714826853),\n",
       " (91.22449406088714, -10.083685211310154),\n",
       " (-10.172599435038236, -65.90357449349534),\n",
       " (32.567084244572754, -3.3184372324712257),\n",
       " (94.81650810983456, 36.376565892581084),\n",
       " (-41.851714417005105, 19.96348406135688),\n",
       " (-90.98688089699658, -10.703831355089434),\n",
       " (43.42215562662355, -49.60415324341669),\n",
       " (-90.20635829858384, -34.99584971722369),\n",
       " (78.26637978405421, 29.81951998819622),\n",
       " (-42.7609777002099, -69.78258842362726),\n",
       " (-26.15340893874385, 28.417379765607365),\n",
       " (91.04318226291443, 74.18708645543856),\n",
       " (47.08593584736772, -13.873762282041241),\n",
       " (-20.46628848168504, 10.02420285956434),\n",
       " (-64.60123457761036, 7.0751953612367515),\n",
       " (97.63391171453557, -7.270248708783257),\n",
       " (73.60184785466615, 61.9316030840196),\n",
       " (55.5558885068869, -2.064447730425684),\n",
       " (44.081348740588055, -34.076154213438144),\n",
       " (9.2914323701132, 82.35698326221018),\n",
       " (53.6421398624546, 94.80358536604442),\n",
       " (17.23108144306302, -36.02018825311531),\n",
       " (-71.86502912458946, 81.22481682105578),\n",
       " (-48.501326517924184, -88.92245729563035),\n",
       " (1.110321615949232, 88.30425114150916),\n",
       " (93.88187765184, 10.010863851553296),\n",
       " (6.219557709783402, -21.946441183997607),\n",
       " (-21.178594814596565, 54.29734535691358),\n",
       " (-74.50994441808487, -42.54509625168339),\n",
       " (83.94158548515026, 7.958542724533984),\n",
       " (-22.00670354476597, -56.27963784176018),\n",
       " (1.1544815252578502, -13.519859351891455),\n",
       " (-17.981228364404345, 61.05286065433583),\n",
       " (-51.60194600128549, 17.7758380203568),\n",
       " (-26.885627959325802, 50.88299851137759),\n",
       " (-0.4782995489627666, 63.947452942774106),\n",
       " (-98.87342804757257, 24.391813378214366),\n",
       " (23.858609718658144, 49.44528549812367),\n",
       " (-56.67513362314671, 42.54481518568079),\n",
       " (76.49283781517866, 31.29661840428321),\n",
       " (-5.696856086513208, 79.66845840852704),\n",
       " (41.23847897395822, 63.16972565218438),\n",
       " (-43.899092954802946, 82.47825425303472),\n",
       " (-81.72516713498379, 11.006236008495506)]"
      ]
     },
     "execution_count": 62,
     "metadata": {},
     "output_type": "execute_result"
    }
   ],
   "source": [
    "points"
   ]
  },
  {
   "cell_type": "code",
   "execution_count": 70,
   "id": "61e09335",
   "metadata": {},
   "outputs": [
    {
     "name": "stdout",
     "output_type": "stream",
     "text": [
      "shortest distance is: 0.7236211\n",
      "time: 2.016969919204712 seconds\n"
     ]
    }
   ],
   "source": [
    "time1 = time.time()\n",
    "print(f\"shortest distance is: {find_closest_points(kmeans(points, 199))}\")\n",
    "time2 = time.time()\n",
    "print(f\"time: {time2-time1} seconds\")"
   ]
  },
  {
   "cell_type": "code",
   "execution_count": 71,
   "id": "1c367728",
   "metadata": {},
   "outputs": [
    {
     "name": "stdout",
     "output_type": "stream",
     "text": [
      "shortest distance is: 2.0304267\n",
      "time: 1.0527679920196533 seconds\n"
     ]
    }
   ],
   "source": [
    "time1 = time.time()\n",
    "print(f\"shortest distance is: {find_closest_points(kmeans(points, 100))}\")\n",
    "time2 = time.time()\n",
    "print(f\"time: {time2-time1} seconds\")"
   ]
  },
  {
   "cell_type": "code",
   "execution_count": 72,
   "id": "1f10e613",
   "metadata": {},
   "outputs": [
    {
     "name": "stdout",
     "output_type": "stream",
     "text": [
      "shortest distance is: 4.2305852\n",
      "time: 0.5284171104431152 seconds\n"
     ]
    }
   ],
   "source": [
    "time1 = time.time()\n",
    "print(f\"shortest distance is: {find_closest_points(kmeans(points, 50))}\")\n",
    "time2 = time.time()\n",
    "print(f\"time: {time2-time1} seconds\")"
   ]
  },
  {
   "cell_type": "code",
   "execution_count": 73,
   "id": "3096af95",
   "metadata": {},
   "outputs": [
    {
     "name": "stdout",
     "output_type": "stream",
     "text": [
      "shortest distance is: 5.0569936\n",
      "time: 0.29303789138793945 seconds\n"
     ]
    }
   ],
   "source": [
    "time1 = time.time()\n",
    "print(f\"shortest distance is: {find_closest_points(kmeans(points, 25))}\")\n",
    "time2 = time.time()\n",
    "print(f\"time: {time2-time1} seconds\")"
   ]
  },
  {
   "cell_type": "code",
   "execution_count": 74,
   "id": "94d9bbaf",
   "metadata": {},
   "outputs": [
    {
     "name": "stdout",
     "output_type": "stream",
     "text": [
      "shortest distance is: 6.523689\n",
      "time: 0.1690990924835205 seconds\n"
     ]
    }
   ],
   "source": [
    "time1 = time.time()\n",
    "print(f\"shortest distance is: {find_closest_points(kmeans(points, 12))}\")\n",
    "time2 = time.time()\n",
    "print(f\"time: {time2-time1} seconds\")"
   ]
  },
  {
   "cell_type": "code",
   "execution_count": 75,
   "id": "1c90016f",
   "metadata": {},
   "outputs": [
    {
     "name": "stdout",
     "output_type": "stream",
     "text": [
      "shortest distance is: 4.8307296\n",
      "time: 0.10745716094970703 seconds\n"
     ]
    }
   ],
   "source": [
    "time1 = time.time()\n",
    "print(f\"shortest distance is: {find_closest_points(kmeans(points, 6))}\")\n",
    "time2 = time.time()\n",
    "print(f\"time: {time2-time1} seconds\")"
   ]
  },
  {
   "cell_type": "code",
   "execution_count": 76,
   "id": "a28b4043",
   "metadata": {},
   "outputs": [
    {
     "name": "stdout",
     "output_type": "stream",
     "text": [
      "shortest distance is: 6.4677458\n",
      "time: 0.07150793075561523 seconds\n"
     ]
    }
   ],
   "source": [
    "time1 = time.time()\n",
    "print(f\"shortest distance is: {find_closest_points(kmeans(points, 3))}\")\n",
    "time2 = time.time()\n",
    "print(f\"time: {time2-time1} seconds\")"
   ]
  },
  {
   "cell_type": "code",
   "execution_count": null,
   "id": "e1a92081",
   "metadata": {},
   "outputs": [],
   "source": []
  },
  {
   "cell_type": "code",
   "execution_count": null,
   "id": "e45586ba",
   "metadata": {},
   "outputs": [],
   "source": []
  }
 ],
 "metadata": {
  "kernelspec": {
   "display_name": "Python 3 (ipykernel)",
   "language": "python",
   "name": "python3"
  },
  "language_info": {
   "codemirror_mode": {
    "name": "ipython",
    "version": 3
   },
   "file_extension": ".py",
   "mimetype": "text/x-python",
   "name": "python",
   "nbconvert_exporter": "python",
   "pygments_lexer": "ipython3",
   "version": "3.8.0"
  }
 },
 "nbformat": 4,
 "nbformat_minor": 5
}
