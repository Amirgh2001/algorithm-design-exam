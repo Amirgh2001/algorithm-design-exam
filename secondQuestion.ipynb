{
 "cells": [
  {
   "cell_type": "code",
   "execution_count": null,
   "id": "2e3f6b5e",
   "metadata": {},
   "outputs": [],
   "source": []
  },
  {
   "cell_type": "code",
   "execution_count": 3,
   "id": "69202adb",
   "metadata": {},
   "outputs": [
    {
     "data": {
      "text/plain": [
       "{1: [2], 2: [1, 3], 3: [4], 4: [1]}"
      ]
     },
     "execution_count": 3,
     "metadata": {},
     "output_type": "execute_result"
    }
   ],
   "source": [
    "graph = {edge[0]: [] for edge in edges}\n",
    "for edge in edges:\n",
    "    if edge[0] in graph:\n",
    "        graph[edge[0]].append(edge[1])\n",
    "    else:\n",
    "        graph[edge[0]] = [edge[1]]\n",
    "graph"
   ]
  },
  {
   "cell_type": "code",
   "execution_count": 6,
   "id": "a1fece78",
   "metadata": {},
   "outputs": [],
   "source": [
    "def find_all_paths(graph, start_node, end_node):\n",
    "    stack = [(start_node, [])]\n",
    "    while stack:\n",
    "        current_node, path = stack.pop()\n",
    "        if path and current_node == end_node:\n",
    "            yield path\n",
    "            continue\n",
    "        for neighbor in graph[current_node]:\n",
    "            if neighbor in path:\n",
    "                continue\n",
    "            stack.append((neighbor, path + [neighbor]))\n",
    "    paths = list(find_all_paths(graph, start_node, end_node))\n",
    "    return paths"
   ]
  },
  {
   "cell_type": "code",
   "execution_count": null,
   "id": "a0a9e98c",
   "metadata": {},
   "outputs": [],
   "source": []
  },
  {
   "cell_type": "code",
   "execution_count": null,
   "id": "f6b86dff",
   "metadata": {},
   "outputs": [],
   "source": []
  },
  {
   "cell_type": "code",
   "execution_count": null,
   "id": "07c1bb82",
   "metadata": {},
   "outputs": [],
   "source": []
  }
 ],
 "metadata": {
  "kernelspec": {
   "display_name": "Python 3 (ipykernel)",
   "language": "python",
   "name": "python3"
  },
  "language_info": {
   "codemirror_mode": {
    "name": "ipython",
    "version": 3
   },
   "file_extension": ".py",
   "mimetype": "text/x-python",
   "name": "python",
   "nbconvert_exporter": "python",
   "pygments_lexer": "ipython3",
   "version": "3.8.0"
  }
 },
 "nbformat": 4,
 "nbformat_minor": 5
}
