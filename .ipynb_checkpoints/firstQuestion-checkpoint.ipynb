{
 "cells": [
  {
   "cell_type": "code",
   "execution_count": 100,
   "id": "730ee64f",
   "metadata": {},
   "outputs": [],
   "source": [
    "import random\n",
    "import math\n",
    "import matplotlib.pyplot as plt"
   ]
  },
  {
   "cell_type": "code",
   "execution_count": 60,
   "id": "11e69712",
   "metadata": {},
   "outputs": [
    {
     "name": "stdout",
     "output_type": "stream",
     "text": [
      "5.830951894845301\n"
     ]
    }
   ],
   "source": [
    "def distance(p, q):\n",
    "    return math.sqrt((p[0] - q[0]) ** 2 + (p[1] - q[1]) ** 2)\n",
    "print(distance((3, 4), (6, 9)))"
   ]
  },
  {
   "cell_type": "code",
   "execution_count": 66,
   "id": "d8e2f79c",
   "metadata": {},
   "outputs": [
    {
     "name": "stdout",
     "output_type": "stream",
     "text": [
      "(6.0, 7.666666666666667)\n"
     ]
    }
   ],
   "source": [
    "def centroid(points):\n",
    "    x = sum(p[0] for p in points) / len(points)\n",
    "    y = sum(p[1] for p in points) / len(points)\n",
    "    return (x, y)\n",
    "points = [(1, 2), (3, 8), (5, 6), (7, 8), (9, 10), (11, 12)]\n",
    "print(centroid(points))"
   ]
  },
  {
   "cell_type": "code",
   "execution_count": 101,
   "id": "7e4224a8",
   "metadata": {},
   "outputs": [
    {
     "name": "stdout",
     "output_type": "stream",
     "text": [
      "[[(1, 3), (5, 7), (2, 6), (-3, 5), (-2, 8), (-2, 6), (5, 7)], [(4, -1), (8, -2), (7, 5), (6, 2), (5, -3)], [(0, 2), (0, 0), (-1, -3), (2, 0), (-3, -1), (3, -1), (0, 0), (-1, -3)]]\n"
     ]
    }
   ],
   "source": [
    "def kmeans(points, k, max_iterations=100):\n",
    "    centroids = random.sample(points, k)\n",
    "\n",
    "    for i in range(max_iterations):\n",
    "        clusters = [[] for i in range(k)]\n",
    "        for point in points:\n",
    "            distances = [distance(point, centroid) for centroid in centroids]\n",
    "            closest_centroid = distances.index(min(distances))\n",
    "            clusters[closest_centroid].append(point)\n",
    "\n",
    "        new_centroids = []\n",
    "        for cluster in clusters:\n",
    "            if cluster:\n",
    "                new_centroids.append(centroid(cluster))\n",
    "            else:\n",
    "                new_centroids.append(random.choice(points))\n",
    "        centroids = new_centroids\n",
    "\n",
    "    return clusters\n",
    "points = [(1, 3), (5, 7), (0, 2), (4, -1), (0, 0), (2, 6), (-3, 5), (8, -2), (-1, -3), (7, 5), (2, 0), (6, 2), (5, -3), (-2, 8), (-3, -1), (3, -1), (0, 0), (-2, 6), (5, 7), (-1, -3)]\n",
    "print(kmeans(points, 3))\n"
   ]
  },
  {
   "cell_type": "code",
   "execution_count": 111,
   "id": "cae3c69a",
   "metadata": {},
   "outputs": [
    {
     "data": {
      "image/png": "[encoded data removed]",
      "text/plain": [
       "<Figure size 432x288 with 1 Axes>"
      ]
     },
     "metadata": {
      "needs_background": "light"
     },
     "output_type": "display_data"
    }
   ],
   "source": [
    "clusters = [[(1, 3), (0, 2), (-3, 5), (-2, 8), (-2, 6)],\n",
    "            [(5, 7), (2, 6), (7, 5), (6, 2), (5, 7)],\n",
    "            [(4, -1), (0, 0), (8, -2), (-1, -3), (2, 0), (5, -3), (-3, -1), (3, -1), (0, 0), (-1, -3)]]\n",
    "\n",
    "colors = ['red', 'green', 'blue', 'orange']\n",
    "\n",
    "for i, cluster in enumerate(clusters):\n",
    "    x_values = [point[0] for point in cluster]\n",
    "    y_values = [point[1] for point in cluster]\n",
    "    plt.scatter(x_values, y_values, color=colors[i])\n",
    "\n",
    "plt.xlabel('X')\n",
    "plt.ylabel('Y')\n",
    "plt.title('Scatter Plot of Points with Clusters')\n",
    "plt.show()"
   ]
  },
  {
   "cell_type": "code",
   "execution_count": null,
   "id": "ed8d48b5",
   "metadata": {},
   "outputs": [],
   "source": []
  },
  {
   "cell_type": "code",
   "execution_count": null,
   "id": "f01b5393",
   "metadata": {},
   "outputs": [],
   "source": []
  }
 ],
 "metadata": {
  "kernelspec": {
   "display_name": "Python 3 (ipykernel)",
   "language": "python",
   "name": "python3"
  },
  "language_info": {
   "codemirror_mode": {
    "name": "ipython",
    "version": 3
   },
   "file_extension": ".py",
   "mimetype": "text/x-python",
   "name": "python",
   "nbconvert_exporter": "python",
   "pygments_lexer": "ipython3",
   "version": "3.8.0"
  }
 },
 "nbformat": 4,
 "nbformat_minor": 5
}
